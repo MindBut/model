{
 "cells": [
  {
   "cell_type": "markdown",
   "metadata": {},
   "source": [
    "# Optimizing Prompt using Automatic Prompt Engineering"
   ]
  },
  {
   "cell_type": "code",
   "execution_count": null,
   "metadata": {},
   "outputs": [],
   "source": [
    "from AutomaticPromptEngineer import APE, configs\n",
    "import os\n",
    "import yaml\n",
    "import numpy as np\n",
    "import pandas as pd"
   ]
  },
  {
   "cell_type": "code",
   "execution_count": null,
   "metadata": {},
   "outputs": [],
   "source": [
    "# Get the list of goals, depressed, anxious categories to sample from \n",
    "\n",
    "goals = ['불안 완화', '관계 개선', '생산성 향상', '우울 완화', '자존감 향상', \n",
    "            '자신감 향상', '스트레스 완화', '행복 증대']\n",
    "depressed = ['정상', '경미한', '중간', '약간 심한', '심한']\n",
    "anxious = ['정상', '경미한', '중간', '약간 심한', '심한']"
   ]
  },
  {
   "cell_type": "code",
   "execution_count": null,
   "metadata": {},
   "outputs": [],
   "source": [
    "# Download dataset \n",
    "wd = os.getcwd  # Model \n",
    "data_path = os.path.join(wd, 'AutomaticPromptEngineer', 'data')\n",
    "\n",
    "file_path = os.path.join(data_path, 'mindbut_classification_merged_file.csv')\n",
    "\n",
    "data = pd.read_csv(file_path)"
   ]
  },
  {
   "cell_type": "code",
   "execution_count": null,
   "metadata": {},
   "outputs": [],
   "source": [
    "# Download Instruction \n",
    "inst_path = os.path.join(data_path, 'inst.csv')\n",
    "inst = pd.read_csv(inst_path)\n",
    "instructions = inst[0].to_list"
   ]
  },
  {
   "cell_type": "code",
   "execution_count": null,
   "metadata": {},
   "outputs": [],
   "source": [
    "# Get configs path\n",
    "configs_path = os.path.join(wd, 'AutomaticPromptEngineering', 'configs', 'models.yaml')\n",
    "\n",
    "# Read YAML file\n",
    "with open(configs_path, 'r') as file:\n",
    "    configs = yaml.safe_load(file)\n",
    "\n",
    "config_generation = configs['generation']\n",
    "config_eval = configs['evaluation']\n",
    "config_score = configs['score']\n",
    "\n",
    "print(config_generation)"
   ]
  },
  {
   "cell_type": "code",
   "execution_count": null,
   "metadata": {},
   "outputs": [],
   "source": [
    "# Generate Prompt \n",
    "prompts = APE.generate.generate_prompt(instructions, config_generation)\n",
    "prompts[3]"
   ]
  },
  {
   "cell_type": "code",
   "execution_count": null,
   "metadata": {},
   "outputs": [],
   "source": [
    "# Generate outputs of counselor given the prompt\n",
    "outputs = APE.generate.eval_prompt(prompts, goals, depressed, anxious, data, config_eval)\n",
    "outputs.head()"
   ]
  },
  {
   "cell_type": "code",
   "execution_count": null,
   "metadata": {},
   "outputs": [],
   "source": [
    "# Compute the scores\n",
    "scores = APE.generate.score_prompt(outputs, config_score)\n",
    "scores.head()"
   ]
  },
  {
   "cell_type": "code",
   "execution_count": null,
   "metadata": {},
   "outputs": [],
   "source": [
    "# Find the best prompts \n",
    "SCORES = APE.evaluate.evaluate_prompts(scores)\n",
    "best_prompts = APE.evaluate.EvaluationResult.sorted(SCORES)"
   ]
  }
 ],
 "metadata": {
  "language_info": {
   "name": "python"
  }
 },
 "nbformat": 4,
 "nbformat_minor": 2
}
